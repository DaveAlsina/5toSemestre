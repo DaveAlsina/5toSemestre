{
 "cells": [
  {
   "cell_type": "code",
   "execution_count": 1,
   "id": "3aff3c92",
   "metadata": {},
   "outputs": [],
   "source": [
    "from Proyecto_Final_Redes import *\n",
    "import cv2\n",
    "from  scipy.sparse import csr_matrix\n",
    "from matplotlib import pyplot as plt\n",
    "\n"
   ]
  },
  {
   "cell_type": "code",
   "execution_count": 14,
   "id": "482adbe3",
   "metadata": {},
   "outputs": [],
   "source": [
    "import tensorflow as tf\n",
    "\n",
    "from sklearn.metrics import accuracy_score, precision_score, recall_score\n",
    "from sklearn.model_selection import train_test_split\n",
    "from tensorflow.keras import layers, losses\n",
    "from tensorflow.keras.datasets import fashion_mnist\n",
    "from tensorflow.keras.models import Model"
   ]
  },
  {
   "cell_type": "code",
   "execution_count": 15,
   "id": "6f70aee1",
   "metadata": {},
   "outputs": [],
   "source": [
    "class solve_dijkstra(Model):\n",
    "    \n",
    "    def __init__(self):\n",
    "        \n",
    "        super(solve_dijkstra, self).__init__()\n",
    "        self.encoder = tf.keras.Sequential([  layers.Input(shape = (50, 50, 1)),\n",
    "                                              layers.Conv2D(16, (3, 3),\n",
    "                                                            activation = 'relu',\n",
    "                                                            padding    = 'same',\n",
    "                                                            strides    = 2),\n",
    "                                              layers.Conv2D(8, (3, 3),\n",
    "                                                            activation = 'relu',\n",
    "                                                            padding    = 'same',\n",
    "                                                            strides    = 2)])\n",
    "        \n",
    "        self.decoder = tf.keras.Sequential([layers.Conv2DTranspose(8,\n",
    "                                                                   kernel_size = 3,\n",
    "                                                                   strides     = 2,\n",
    "                                                                   activation  = 'relu',\n",
    "                                                                   padding='same'),\n",
    "                                            layers.Conv2DTranspose(16,\n",
    "                                                                   kernel_size = 3,\n",
    "                                                                   strides     = 2,\n",
    "                                                                   activation  = 'relu',\n",
    "                                                                   padding     = 'same'),\n",
    "                                            layers.Conv2D(1,\n",
    "                                                          kernel_size = (3, 3),\n",
    "                                                          activation  = 'sigmoid',\n",
    "                                                          padding     = 'same')])\n",
    "        "
   ]
  },
  {
   "cell_type": "code",
   "execution_count": 16,
   "id": "6033ea40",
   "metadata": {},
   "outputs": [],
   "source": [
    "autoencoder = solve_dijkstra()\n",
    "autoencoder.compile(optimizer='adam', loss=losses.MeanSquaredError())"
   ]
  },
  {
   "cell_type": "code",
   "execution_count": null,
   "id": "46641224",
   "metadata": {},
   "outputs": [],
   "source": [
    "# Train test split"
   ]
  },
  {
   "cell_type": "code",
   "execution_count": null,
   "id": "f3dd83e8",
   "metadata": {},
   "outputs": [],
   "source": [
    "autoencoder.fit(x_train_noisy, x_train,\n",
    "                epochs=10,\n",
    "                shuffle=True,\n",
    "                validation_data=(x_test_noisy, x_test))"
   ]
  }
 ],
 "metadata": {
  "kernelspec": {
   "display_name": "Python 3 (ipykernel)",
   "language": "python",
   "name": "python3"
  },
  "language_info": {
   "codemirror_mode": {
    "name": "ipython",
    "version": 3
   },
   "file_extension": ".py",
   "mimetype": "text/x-python",
   "name": "python",
   "nbconvert_exporter": "python",
   "pygments_lexer": "ipython3",
   "version": "3.9.7"
  }
 },
 "nbformat": 4,
 "nbformat_minor": 5
}
