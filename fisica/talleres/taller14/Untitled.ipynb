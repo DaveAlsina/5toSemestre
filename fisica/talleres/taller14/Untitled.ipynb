{
 "cells": [
  {
   "cell_type": "code",
   "execution_count": 1,
   "id": "14fd47c7",
   "metadata": {},
   "outputs": [],
   "source": [
    "import numpy as np\n",
    "from sklearn.linear_model import LinearRegression\n",
    "\n",
    "from matplotlib import pyplot as plt\n",
    "import pandas as pd\n",
    "from scipy.signal import find_peaks"
   ]
  },
  {
   "cell_type": "markdown",
   "id": "381c4f6f",
   "metadata": {},
   "source": [
    "**A)** _Realice graficas de cada espectro en terminos de intensidad\n",
    "como función de pixeles(aqui puede ser útil trazar una línea de perfil)_"
   ]
  },
  {
   "cell_type": "code",
   "execution_count": 2,
   "id": "33de3a11",
   "metadata": {},
   "outputs": [],
   "source": [
    "def load_data(dataset: str):\n",
    "    \n",
    "    data = pd.read_csv(dataset)\n",
    "    x = data['Distance_(inches)']\n",
    "    y = data['Gray_Value']\n",
    "    \n",
    "    return x,y "
   ]
  },
  {
   "cell_type": "code",
   "execution_count": 3,
   "id": "a0442e3a",
   "metadata": {},
   "outputs": [],
   "source": [
    "def get_peaks(x: np.ndarray,\n",
    "              y: np.ndarray, \n",
    "              prominence: float,\n",
    "              distance: int):\n",
    "    \n",
    "    \"\"\"\n",
    "        Obtiene los picos\n",
    "    \"\"\"\n",
    "    \n",
    "    indx = find_peaks(y,\n",
    "                      distance = distance,\n",
    "                      prominence = prominence)\n",
    "    \n",
    "    xpeaks = np.array(x[indx[0]]).reshape(-1, 1)\n",
    "    ypeaks = np.array(y[indx[0]]).reshape(-1, 1)\n",
    "    # retorna los insumos para la regresión lineal \n",
    "    return xpeaks, ypeaks "
   ]
  },
  {
   "cell_type": "code",
   "execution_count": 4,
   "id": "dbd8e263",
   "metadata": {},
   "outputs": [],
   "source": [
    "x, y = load_data(dataset = 'he1.csv')\n",
    "\n",
    "#valores de calibración\n",
    "calibracion = np.array([543.5, 632.8]).reshape(-1, 1)\n",
    "\n",
    "# prominencia\n",
    "valor_max = np.max(y)\n",
    "peaksx, peaksy = get_peaks(x = x, \n",
    "                           y = y, \n",
    "                           prominence = valor_max/2, \n",
    "                           distance = 10)"
   ]
  },
  {
   "cell_type": "code",
   "execution_count": 5,
   "id": "71131f04",
   "metadata": {},
   "outputs": [
    {
     "data": {
      "text/plain": [
       "<matplotlib.collections.PathCollection at 0x7fb6ab5f4280>"
      ]
     },
     "execution_count": 5,
     "metadata": {},
     "output_type": "execute_result"
    },
    {
     "data": {
      "image/png": "[encoded data removed]",
      "text/plain": [
       "<Figure size 432x288 with 1 Axes>"
      ]
     },
     "metadata": {
      "needs_background": "light"
     },
     "output_type": "display_data"
    }
   ],
   "source": [
    "plt.plot(x, y)\n",
    "plt.scatter(peaksx, peaksy)"
   ]
  },
  {
   "cell_type": "markdown",
   "id": "3810f54c",
   "metadata": {},
   "source": [
    "Ahora hacemos el modelo de regresión lineal, lo que obtendremos de acá es un modelo que nos predice la longitud de onda en función de la posición dada."
   ]
  },
  {
   "cell_type": "code",
   "execution_count": 6,
   "id": "36ac4f09",
   "metadata": {},
   "outputs": [
    {
     "data": {
      "text/plain": [
       "LinearRegression()"
      ]
     },
     "execution_count": 6,
     "metadata": {},
     "output_type": "execute_result"
    }
   ],
   "source": [
    "model = LinearRegression()\n",
    "model.fit(peaksx, calibracion)"
   ]
  },
  {
   "cell_type": "code",
   "execution_count": 7,
   "id": "86cf8e8c",
   "metadata": {
    "scrolled": true
   },
   "outputs": [
    {
     "name": "stdout",
     "output_type": "stream",
     "text": [
      "pendiente:  [[63.97627218]]\n",
      "intercepto:  [399.55338759]\n"
     ]
    }
   ],
   "source": [
    "print(\"pendiente: \",  model.coef_)\n",
    "print(\"intercepto: \", model.intercept_)"
   ]
  },
  {
   "cell_type": "markdown",
   "id": "cf3ab63e",
   "metadata": {},
   "source": [
    "# **B)** _Predecimos longitudes de onda_.\n",
    "\n",
    "#### *Para el hidrógeno primero:*"
   ]
  },
  {
   "cell_type": "code",
   "execution_count": 8,
   "id": "3ee283e1",
   "metadata": {},
   "outputs": [
    {
     "data": {
      "text/plain": [
       "<matplotlib.collections.PathCollection at 0x7fb6aacfcdf0>"
      ]
     },
     "execution_count": 8,
     "metadata": {},
     "output_type": "execute_result"
    },
    {
     "data": {
      "image/png": "[encoded data removed]",
      "text/plain": [
       "<Figure size 432x288 with 1 Axes>"
      ]
     },
     "metadata": {
      "needs_background": "light"
     },
     "output_type": "display_data"
    }
   ],
   "source": [
    "xh, yh = load_data(dataset = 'H_niveles.csv')\n",
    "media = np.mean(yh)\n",
    "\n",
    "xh_peaks, yh_peaks = get_peaks(x = xh, y = yh,\n",
    "                               prominence = media, \n",
    "                               distance = 10)\n",
    "plt.plot(xh, yh)\n",
    "plt.scatter(xh_peaks, yh_peaks)"
   ]
  },
  {
   "cell_type": "code",
   "execution_count": 9,
   "id": "5314e3fd",
   "metadata": {},
   "outputs": [
    {
     "name": "stdout",
     "output_type": "stream",
     "text": [
      "Las longitudes de onda en nanometros son: \n"
     ]
    },
    {
     "data": {
      "text/plain": [
       "array([[516.84300667],\n",
       "       [568.15773482],\n",
       "       [739.42733356]])"
      ]
     },
     "execution_count": 9,
     "metadata": {},
     "output_type": "execute_result"
    }
   ],
   "source": [
    "print(\"Las longitudes de onda en nanometros son: \")\n",
    "model.predict(xh_peaks)"
   ]
  },
  {
   "cell_type": "markdown",
   "id": "a59f0a43",
   "metadata": {},
   "source": [
    "### *Ahora para para el helio:*"
   ]
  },
  {
   "cell_type": "code",
   "execution_count": 10,
   "id": "ed319766",
   "metadata": {
    "scrolled": true
   },
   "outputs": [
    {
     "data": {
      "text/plain": [
       "<matplotlib.collections.PathCollection at 0x7fb6aac7e6a0>"
      ]
     },
     "execution_count": 10,
     "metadata": {},
     "output_type": "execute_result"
    },
    {
     "data": {
      "image/png": "[encoded data removed]",
      "text/plain": [
       "<Figure size 432x288 with 1 Axes>"
      ]
     },
     "metadata": {
      "needs_background": "light"
     },
     "output_type": "display_data"
    }
   ],
   "source": [
    "xhe, yhe = load_data(dataset = 'He_niveles.csv')\n",
    "media = np.mean(yhe)\n",
    "\n",
    "xhe_peaks, yhe_peaks = get_peaks(x = xhe, y = yhe,\n",
    "                                 prominence = media, \n",
    "                                 distance = 5)\n",
    "plt.plot(xhe, yhe)\n",
    "plt.scatter(xhe_peaks, yhe_peaks)"
   ]
  },
  {
   "cell_type": "code",
   "execution_count": 11,
   "id": "da3885ee",
   "metadata": {},
   "outputs": [
    {
     "name": "stdout",
     "output_type": "stream",
     "text": [
      "Las longitudes de onda en nanometros son: \n"
     ]
    },
    {
     "data": {
      "text/plain": [
       "array([[475.52521081],\n",
       "       [532.17108172],\n",
       "       [555.49555103],\n",
       "       [576.82076184],\n",
       "       [586.15106138],\n",
       "       [589.48294563],\n",
       "       [672.11917712],\n",
       "       [753.4221431 ],\n",
       "       [794.07394597]])"
      ]
     },
     "execution_count": 11,
     "metadata": {},
     "output_type": "execute_result"
    }
   ],
   "source": [
    "print(\"Las longitudes de onda en nanometros son: \")\n",
    "model.predict(xhe_peaks)"
   ]
  },
  {
   "cell_type": "markdown",
   "id": "7cf8e6b6",
   "metadata": {},
   "source": [
    "### *Para para el hg:*"
   ]
  },
  {
   "cell_type": "code",
   "execution_count": 12,
   "id": "87ba021b",
   "metadata": {},
   "outputs": [
    {
     "data": {
      "text/plain": [
       "<matplotlib.collections.PathCollection at 0x7fb6aabf2220>"
      ]
     },
     "execution_count": 12,
     "metadata": {},
     "output_type": "execute_result"
    },
    {
     "data": {
      "image/png": "[encoded data removed]",
      "text/plain": [
       "<Figure size 432x288 with 1 Axes>"
      ]
     },
     "metadata": {
      "needs_background": "light"
     },
     "output_type": "display_data"
    }
   ],
   "source": [
    "xhg, yhg = load_data(dataset = 'Hg_niveles.csv')\n",
    "media = np.mean(yhg)\n",
    "\n",
    "xhg_peaks, yhg_peaks = get_peaks(x = xhg, y = yhg,\n",
    "                                 prominence = media, \n",
    "                                 distance = 5)\n",
    "plt.plot(xhg, yhg)\n",
    "plt.scatter(xhg_peaks, yhg_peaks)"
   ]
  },
  {
   "cell_type": "code",
   "execution_count": 13,
   "id": "120d21b8",
   "metadata": {
    "scrolled": true
   },
   "outputs": [
    {
     "name": "stdout",
     "output_type": "stream",
     "text": [
      "Las longitudes de onda en nanometros son: \n"
     ]
    },
    {
     "data": {
      "text/plain": [
       "array([[520.17553069],\n",
       "       [629.46811574],\n",
       "       [661.45625184],\n",
       "       [861.38210241]])"
      ]
     },
     "execution_count": 13,
     "metadata": {},
     "output_type": "execute_result"
    }
   ],
   "source": [
    "print(\"Las longitudes de onda en nanometros son: \")\n",
    "model.predict(xhg_peaks)"
   ]
  },
  {
   "cell_type": "markdown",
   "id": "f20f5f25",
   "metadata": {},
   "source": [
    "### *Para para el Kr:*"
   ]
  },
  {
   "cell_type": "code",
   "execution_count": 14,
   "id": "03763849",
   "metadata": {},
   "outputs": [
    {
     "data": {
      "text/plain": [
       "<matplotlib.collections.PathCollection at 0x7fb6aabd7e20>"
      ]
     },
     "execution_count": 14,
     "metadata": {},
     "output_type": "execute_result"
    },
    {
     "data": {
      "image/png": "[encoded data removed]",
      "text/plain": [
       "<Figure size 432x288 with 1 Axes>"
      ]
     },
     "metadata": {
      "needs_background": "light"
     },
     "output_type": "display_data"
    }
   ],
   "source": [
    "xkr, ykr = load_data(dataset = 'kr_niveles.csv')\n",
    "media = np.mean(ykr)\n",
    "\n",
    "xkr_peaks, ykr_peaks = get_peaks(x = xkr, y = ykr,\n",
    "                                 prominence = media, \n",
    "                                 distance = 5)\n",
    "plt.plot(xkr, ykr)\n",
    "plt.scatter(xkr_peaks, ykr_peaks)"
   ]
  },
  {
   "cell_type": "code",
   "execution_count": 15,
   "id": "6f6535f9",
   "metadata": {},
   "outputs": [
    {
     "name": "stdout",
     "output_type": "stream",
     "text": [
      "Las longitudes de onda en nanometros son: \n"
     ]
    },
    {
     "data": {
      "text/plain": [
       "array([[513.51112241],\n",
       "       [638.79777552],\n",
       "       [669.45328586],\n",
       "       [859.3828439 ]])"
      ]
     },
     "execution_count": 15,
     "metadata": {},
     "output_type": "execute_result"
    }
   ],
   "source": [
    "print(\"Las longitudes de onda en nanometros son: \")\n",
    "model.predict(xkr_peaks)"
   ]
  },
  {
   "cell_type": "markdown",
   "id": "ea59cef7",
   "metadata": {},
   "source": [
    "### *Para para el Ar:*"
   ]
  },
  {
   "cell_type": "code",
   "execution_count": 16,
   "id": "5f714eeb",
   "metadata": {
    "scrolled": false
   },
   "outputs": [
    {
     "data": {
      "text/plain": [
       "<matplotlib.collections.PathCollection at 0x7fb6aab49b50>"
      ]
     },
     "execution_count": 16,
     "metadata": {},
     "output_type": "execute_result"
    },
    {
     "data": {
      "image/png": "[encoded data removed]",
      "text/plain": [
       "<Figure size 432x288 with 1 Axes>"
      ]
     },
     "metadata": {
      "needs_background": "light"
     },
     "output_type": "display_data"
    }
   ],
   "source": [
    "xar, yar = load_data(dataset = 'ar_niveles.csv')\n",
    "media = np.mean(yar)\n",
    "std = np.sqrt(np.var(yar))\n",
    "\n",
    "xar_peaks, yar_peaks = get_peaks(x = xar, y = yar,\n",
    "                                 prominence = media-2*std, \n",
    "                                 distance = 3)\n",
    "plt.plot(xar, yar)\n",
    "plt.scatter(xar_peaks, yar_peaks)"
   ]
  },
  {
   "cell_type": "code",
   "execution_count": 17,
   "id": "c7b5c211",
   "metadata": {
    "scrolled": true
   },
   "outputs": [
    {
     "name": "stdout",
     "output_type": "stream",
     "text": [
      "Las longitudes de onda en nanometros son: \n"
     ]
    },
    {
     "data": {
      "text/plain": [
       "array([[402.88527185],\n",
       "       [416.88008139],\n",
       "       [429.54226518],\n",
       "       [462.86302702],\n",
       "       [473.5259523 ],\n",
       "       [569.49036057],\n",
       "       [616.80593195],\n",
       "       [622.80370747],\n",
       "       [652.12659206],\n",
       "       [654.12585057],\n",
       "       [656.79110207],\n",
       "       [713.43697298],\n",
       "       [722.10063976],\n",
       "       [746.09174183],\n",
       "       [754.75476885]])"
      ]
     },
     "execution_count": 17,
     "metadata": {},
     "output_type": "execute_result"
    }
   ],
   "source": [
    "print(\"Las longitudes de onda en nanometros son: \")\n",
    "model.predict(xar_peaks)"
   ]
  },
  {
   "cell_type": "markdown",
   "id": "77b0a989",
   "metadata": {},
   "source": [
    "### C) Usando el espectro para el Hidrógeno determine la constante de Rydberg.\n"
   ]
  },
  {
   "cell_type": "code",
   "execution_count": 18,
   "id": "a52a302b",
   "metadata": {},
   "outputs": [
    {
     "data": {
      "text/plain": [
       "<matplotlib.collections.PathCollection at 0x7fb6aaabed90>"
      ]
     },
     "execution_count": 18,
     "metadata": {},
     "output_type": "execute_result"
    },
    {
     "data": {
      "image/png": "[encoded data removed]",
      "text/plain": [
       "<Figure size 432x288 with 1 Axes>"
      ]
     },
     "metadata": {
      "needs_background": "light"
     },
     "output_type": "display_data"
    }
   ],
   "source": [
    "xh, yh = load_data(dataset = 'H_niveles.csv')\n",
    "media = np.mean(yh)\n",
    "\n",
    "xh_peaks, yh_peaks = get_peaks(x = xh, y = yh,\n",
    "                               prominence = media, \n",
    "                               distance = 10)\n",
    "plt.plot(xh, yh)\n",
    "plt.scatter(xh_peaks, yh_peaks)"
   ]
  },
  {
   "cell_type": "code",
   "execution_count": 19,
   "id": "736c63ff",
   "metadata": {},
   "outputs": [],
   "source": [
    "lambdas = model.predict(xh_peaks) * 1e-9 #lambda en metros\n",
    "estado_base = np.ones((3, 1))*2\n",
    "estado_exitacion = np.array([6, 5, 4]).reshape(-1, 1)\n",
    "\n",
    "    \n",
    "y = 1/lambdas\n",
    "x = 1/(np.power(estado_base, 2)) - (1/(np.power(estado_exitacion, 2))) "
   ]
  },
  {
   "cell_type": "code",
   "execution_count": 20,
   "id": "b0dbb997",
   "metadata": {},
   "outputs": [
    {
     "name": "stdout",
     "output_type": "stream",
     "text": [
      "pendiente (constante Rydberg):  [[16940977.14779385]]\n"
     ]
    }
   ],
   "source": [
    "model = LinearRegression().fit(x, y)\n",
    "print(\"pendiente (constante Rydberg): \",  model.coef_)"
   ]
  },
  {
   "cell_type": "code",
   "execution_count": null,
   "id": "5f859a27",
   "metadata": {},
   "outputs": [],
   "source": []
  }
 ],
 "metadata": {
  "kernelspec": {
   "display_name": "Python 3 (ipykernel)",
   "language": "python",
   "name": "python3"
  },
  "language_info": {
   "codemirror_mode": {
    "name": "ipython",
    "version": 3
   },
   "file_extension": ".py",
   "mimetype": "text/x-python",
   "name": "python",
   "nbconvert_exporter": "python",
   "pygments_lexer": "ipython3",
   "version": "3.9.7"
  }
 },
 "nbformat": 4,
 "nbformat_minor": 5
}
