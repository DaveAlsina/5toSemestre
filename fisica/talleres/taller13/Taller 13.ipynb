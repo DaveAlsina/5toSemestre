{
 "cells": [
  {
   "cell_type": "code",
   "execution_count": 1,
   "id": "603ba486",
   "metadata": {},
   "outputs": [],
   "source": [
    "import numpy as np"
   ]
  },
  {
   "cell_type": "markdown",
   "id": "baabc4ac",
   "metadata": {},
   "source": [
    "**1. La temperatura de su piel es aproximadamente igual a 35◦ C Cuál es la longitud de onda a la que se\n",
    "presenta el pico en la radiación emitida en su piel?**\n",
    "\n",
    "\n",
    "$$\\sigma = 5,67^{-8} \\frac{W}{mt^2 k^4}$$\n",
    "\n",
    "Podemos calcular la emisividad:\n",
    "\n",
    "\n",
    "$$\\epsilon = \\sigma T^{4}$$\n",
    "\n",
    "$$ = ( 5,67^{-8} \\frac{W}{mt^2 k^4})(35°C + 273)^{4}$$\n"
   ]
  },
  {
   "cell_type": "code",
   "execution_count": 2,
   "id": "e043acf0",
   "metadata": {},
   "outputs": [
    {
     "data": {
      "text/plain": [
       "510.2534207232"
      ]
     },
     "execution_count": 2,
     "metadata": {},
     "output_type": "execute_result"
    }
   ],
   "source": [
    "temp_kelvin = (35 + 273)\n",
    "sigma = (5.67e-8)\n",
    "emisividad  = sigma * (temp_kelvin**4)\n",
    "emisividad"
   ]
  },
  {
   "cell_type": "markdown",
   "id": "5dc1418e",
   "metadata": {},
   "source": [
    "Despejamos $\\lambda_{max}$ :  "
   ]
  },
  {
   "cell_type": "code",
   "execution_count": 3,
   "id": "8776a897",
   "metadata": {},
   "outputs": [
    {
     "data": {
      "text/plain": [
       "9.40909090909091e-06"
      ]
     },
     "execution_count": 3,
     "metadata": {},
     "output_type": "execute_result"
    }
   ],
   "source": [
    "cte = 2.898e-3\n",
    "lambda_max = cte/temp_kelvin\n",
    "lambda_max"
   ]
  },
  {
   "cell_type": "markdown",
   "id": "6f957b68",
   "metadata": {},
   "source": [
    "La longitud de onda muy pequeña más allá del espectro visible."
   ]
  },
  {
   "cell_type": "markdown",
   "id": "6d0c86a2",
   "metadata": {},
   "source": [
    "**2.\n",
    "    a) En cuanto disminuirá la masa del sol durante un año a causa de la radiación electromagnética que emite.**\n"
   ]
  },
  {
   "cell_type": "markdown",
   "id": "c9325773",
   "metadata": {},
   "source": [
    "$$\\epsilon = \\sigma T^{4}$$\n",
    "\n",
    "teniendo en cuenta las unidades de emisivilidad:\n",
    "\n",
    "$$\\epsilon = \\frac{E}{t\\cdot A} = \\frac{mc^2}{t \\cdot A}$$\n",
    "\n",
    "Igualamos:\n",
    "\n",
    "$$\\frac{mc^2}{t \\cdot A} = \\sigma T^{4}$$"
   ]
  },
  {
   "cell_type": "code",
   "execution_count": 4,
   "id": "994b85b4",
   "metadata": {},
   "outputs": [],
   "source": [
    "c = 299792458                             # mt/s, velocidad de la luz en el vacío\n",
    "r = 6.95700e8                             # mt, radio del sol\n",
    "area_superficial_sol = 4 * np.pi * (r**2) # area superficial de una esfera\n",
    "temp_superficial = 5778                   # K\n",
    "segundos_en_un_año = 365.25*24*60*60      # s"
   ]
  },
  {
   "cell_type": "code",
   "execution_count": 5,
   "id": "6402e40a",
   "metadata": {
    "scrolled": true
   },
   "outputs": [
    {
     "name": "stdout",
     "output_type": "stream",
     "text": [
      "masa que perdió por radiación:  1.3496142057393826e+17\n"
     ]
    }
   ],
   "source": [
    "mass = sigma*(temp_superficial**4)*(segundos_en_un_año * area_superficial_sol)/(c**2)\n",
    "print(\"masa que perdió por radiación: \", mass)"
   ]
  },
  {
   "cell_type": "markdown",
   "id": "ed3af450",
   "metadata": {},
   "source": [
    "**b) Suponiendo que la radiación del sol es constante Cuánto tiempo tardará la masa del sol en reducirse a la mitad?**"
   ]
  },
  {
   "cell_type": "code",
   "execution_count": 6,
   "id": "3fae9344",
   "metadata": {},
   "outputs": [],
   "source": [
    "masa_sol_actual =  1.9891e30    #kg"
   ]
  },
  {
   "cell_type": "code",
   "execution_count": 7,
   "id": "13d2d0e5",
   "metadata": {},
   "outputs": [
    {
     "name": "stdout",
     "output_type": "stream",
     "text": [
      "tiempo en años:  7369142943002.281 tiempo en segundos:  2.325524653380888e+20\n"
     ]
    }
   ],
   "source": [
    "tiempo = masa_sol_actual*(c**2)/(2*sigma*area_superficial_sol*(temp_superficial**4))\n",
    "tiempo_en_años = tiempo/(365.25*24*60*60)\n",
    "print(\"tiempo en años: \", tiempo_en_años, \"tiempo en segundos: \", tiempo)"
   ]
  },
  {
   "cell_type": "markdown",
   "id": "ba2a3061",
   "metadata": {},
   "source": [
    "**3. a) Use la ley de Stefan para calcular la potencia total radiada por unidad de área por un filamento de tungsteno a una temperatura de 3000K (Suponga que el filamento es un radiador ideal).**\n"
   ]
  },
  {
   "cell_type": "code",
   "execution_count": 8,
   "id": "4744786e",
   "metadata": {},
   "outputs": [
    {
     "name": "stdout",
     "output_type": "stream",
     "text": [
      "Potencia por unidad de area, osea emisividad:  4592700.0\n"
     ]
    }
   ],
   "source": [
    "temperatura_bombillo = 3000\n",
    "potencia_por_area_aka_emisividad = sigma*(temperatura_bombillo**4)\n",
    "\n",
    "print(\"Potencia por unidad de area, osea emisividad: \", potencia_por_area_aka_emisividad)"
   ]
  },
  {
   "cell_type": "markdown",
   "id": "1ad7f741",
   "metadata": {},
   "source": [
    " **b) si el filamento de tungsteno de una lámpara de 75 W. Cuál es el área superficial del filamento? (suponga que la principal perdida de energı́a es por radiación).**"
   ]
  },
  {
   "cell_type": "code",
   "execution_count": 9,
   "id": "5a5910dd",
   "metadata": {},
   "outputs": [
    {
     "name": "stdout",
     "output_type": "stream",
     "text": [
      "area del bombillo es:  1.633026324384349e-05\n"
     ]
    }
   ],
   "source": [
    "potencia_bombillo = 75\n",
    "area_bombillo     = potencia_bombillo/potencia_por_area_aka_emisividad\n",
    "\n",
    "print(\"area del bombillo es: \", area_bombillo)"
   ]
  },
  {
   "cell_type": "markdown",
   "id": "0a706e67",
   "metadata": {},
   "source": [
    " En clase partiendo de la distribución de radiaciń de Planck se obtuvo para bajas y altas frecuencias la\n",
    "equivalencia para la teoria clásica(Stefan-Boltzman, Ley de Wien, Rayleigh Jeans). Un hecho fundamental\n",
    "es que a medida que T aumenta la longitud de onda"
   ]
  },
  {
   "cell_type": "markdown",
   "id": "d102d42a",
   "metadata": {},
   "source": [
    "$K_b = 1,38 \\cdot 10^{-3} \\frac{J}{k}$, Constante de Boltzman.\n",
    "\n",
    "\n",
    "$h = 6,62607015×10e^{−34} J⋅Hz^{−1}$, Constante de Plank.\n",
    "\n",
    "$$E_{0} = hf$$\n",
    "$$c = \\lambda f$$\n",
    "$$f = c/ \\lambda $$\n",
    "$$\\lambda = c/f$$\n",
    "\n",
    "Reemplazando:\n",
    "\n",
    "$$E_{0} = h \\frac{c}{\\lambda}$$\n",
    "\n",
    "$$\\displaystyle P(K, T) = \\frac{f^2 8\\pi}{c^3}  \\cdot \\bigg(\\frac{ \\frac{hc}{\\lambda}}{e^{ \\frac{hc}{\\lambda K_{B}T}}-1} \\bigg)$$\n",
    "\n",
    "$$\\displaystyle P(K, T) = \\frac{f^2 8\\pi h c}{\\lambda c^3}  \\cdot \\bigg(\\frac{1}{e^{ \\frac{hc}{\\lambda K_{B}T}}-1} \\bigg)$$\n",
    "\n",
    "$$\\displaystyle P(K, T) = \\frac{f^2 8\\pi h}{\\lambda c^2}  \\cdot \\bigg(\\frac{1}{e^{ \\frac{hc}{\\lambda K_{B}T}}-1} \\bigg)$$\n",
    "\n",
    "Reemplazamos $c  = \\lambda f$\n",
    "\n",
    "$$\\displaystyle P(K, T) = \\frac{f^2 8\\pi h}{\\lambda^{3} f^2}  \\cdot \\bigg(\\frac{1}{e^{ \\frac{hc}{\\lambda K_{B}T}}-1} \\bigg)$$\n",
    "\n",
    "\n",
    "$$\\displaystyle P(K, T) = \\frac{8\\pi h}{\\lambda^{3}}  \\cdot \\bigg(\\frac{1}{e^{ \\frac{hc}{\\lambda K_{B}T}}-1} \\bigg)$$\n",
    "\n"
   ]
  },
  {
   "cell_type": "code",
   "execution_count": 29,
   "id": "350df613",
   "metadata": {},
   "outputs": [],
   "source": [
    "from sympy import *\n",
    "from sympy.plotting import plot"
   ]
  },
  {
   "cell_type": "code",
   "execution_count": 74,
   "id": "6e0084ce",
   "metadata": {
    "scrolled": true
   },
   "outputs": [],
   "source": [
    "l = Symbol('l')       # lambda\n",
    "facts = Q.positive(l) # lambda es positivo\n",
    "\n",
    "h = 6.62607015e-34\n",
    "kb = 1.38e-3\n",
    "T = 36 + 273          #temperatura del cuerpo en K \n",
    "\n",
    "with assuming(facts):\n",
    "    plank_distrib = (8*np.pi/(l**3)) * (1/(np.e**( (h*c)/(l*kb*T) ) -1 ))\n",
    "    #plank_distrib = (8*np.pi/(l**3)) * (1/(np.e**( (h*c)/(l*kb*T) ) ))\n",
    "    plank_distrib_deriv = diff(plank_distrib)\n"
   ]
  },
  {
   "cell_type": "code",
   "execution_count": 75,
   "id": "fd2e03ca",
   "metadata": {},
   "outputs": [
    {
     "data": {
      "text/latex": [
       "$\\displaystyle \\frac{25.1327412287183}{l^{3} \\left(2.71828182845905^{\\frac{4.65842563001015 \\cdot 10^{-25}}{l}} - 1\\right)}$"
      ],
      "text/plain": [
       "25.1327412287183/(l**3*(2.71828182845905**(4.65842563001015e-25/l) - 1))"
      ]
     },
     "execution_count": 75,
     "metadata": {},
     "output_type": "execute_result"
    }
   ],
   "source": [
    "plank_distrib"
   ]
  },
  {
   "cell_type": "code",
   "execution_count": 76,
   "id": "9851a6de",
   "metadata": {},
   "outputs": [
    {
     "name": "stderr",
     "output_type": "stream",
     "text": [
      "<string>:1: RuntimeWarning: divide by zero encountered in double_scalars\n",
      "/home/dave/anaconda3/lib/python3.9/site-packages/sympy/plotting/plot.py:1603: RuntimeWarning: invalid value encountered in subtract\n",
      "  vector_a = (x - y).astype(np.float64)\n",
      "/home/dave/anaconda3/lib/python3.9/site-packages/sympy/plotting/plot.py:1604: RuntimeWarning: invalid value encountered in subtract\n",
      "  vector_b = (z - y).astype(np.float64)\n"
     ]
    },
    {
     "data": {
      "image/png": "[encoded data removed]",
      "text/plain": [
       "<Figure size 432x288 with 1 Axes>"
      ]
     },
     "metadata": {
      "needs_background": "light"
     },
     "output_type": "display_data"
    }
   ],
   "source": [
    "with assuming(facts):\n",
    "    plot(plank_distrib, xlim=[-0.3,0.2])"
   ]
  },
  {
   "cell_type": "code",
   "execution_count": 77,
   "id": "1ae9f641",
   "metadata": {},
   "outputs": [
    {
     "data": {
      "text/latex": [
       "$\\displaystyle \\frac{1.17079005892274 \\cdot 10^{-23} \\cdot 2.71828182845905^{\\frac{4.65842563001015 \\cdot 10^{-25}}{l}}}{l^{5} \\left(2.71828182845905^{\\frac{4.65842563001015 \\cdot 10^{-25}}{l}} - 1\\right)^{2}} - \\frac{75.398223686155}{l^{4} \\left(2.71828182845905^{\\frac{4.65842563001015 \\cdot 10^{-25}}{l}} - 1\\right)}$"
      ],
      "text/plain": [
       "1.17079005892274e-23*2.71828182845905**(4.65842563001015e-25/l)/(l**5*(2.71828182845905**(4.65842563001015e-25/l) - 1)**2) - 75.398223686155/(l**4*(2.71828182845905**(4.65842563001015e-25/l) - 1))"
      ]
     },
     "execution_count": 77,
     "metadata": {},
     "output_type": "execute_result"
    }
   ],
   "source": [
    "plank_distrib_deriv"
   ]
  },
  {
   "cell_type": "code",
   "execution_count": 78,
   "id": "884cd987",
   "metadata": {},
   "outputs": [
    {
     "name": "stderr",
     "output_type": "stream",
     "text": [
      "<string>:1: RuntimeWarning: divide by zero encountered in double_scalars\n",
      "<string>:1: RuntimeWarning: invalid value encountered in double_scalars\n"
     ]
    },
    {
     "data": {
      "image/png": "[encoded data removed]",
      "text/plain": [
       "<Figure size 432x288 with 1 Axes>"
      ]
     },
     "metadata": {
      "needs_background": "light"
     },
     "output_type": "display_data"
    }
   ],
   "source": [
    "with assuming(facts):\n",
    "    plot(plank_distrib_deriv, xlim=[-1,1])"
   ]
  },
  {
   "cell_type": "code",
   "execution_count": 16,
   "id": "675f03f4",
   "metadata": {},
   "outputs": [],
   "source": [
    "#solve(plank_distrib_deriv, l)"
   ]
  }
 ],
 "metadata": {
  "kernelspec": {
   "display_name": "Python 3 (ipykernel)",
   "language": "python",
   "name": "python3"
  },
  "language_info": {
   "codemirror_mode": {
    "name": "ipython",
    "version": 3
   },
   "file_extension": ".py",
   "mimetype": "text/x-python",
   "name": "python",
   "nbconvert_exporter": "python",
   "pygments_lexer": "ipython3",
   "version": "3.9.7"
  }
 },
 "nbformat": 4,
 "nbformat_minor": 5
}
