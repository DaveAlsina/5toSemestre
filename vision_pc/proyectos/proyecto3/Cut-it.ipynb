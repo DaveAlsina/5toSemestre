{
 "cells": [
  {
   "cell_type": "markdown",
   "metadata": {},
   "source": [
    "# Cut-it\n",
    "\n",
    "En este proyecto la idea es desarrollar un algorithmo de segmentación de imagenes a color, utilizando el Mean  Sift y partición de grafos. Ustedes deben realizar la implementación tanto del algoritmo de mean-shift como el de grafos. Para esto pueden seguir las indicaciones explicadas a continuación.\n",
    "\n",
    "## Algoritmo de mean-shift\n",
    "\n",
    "Este algoritmo tiene como datos de entrada el tamaño de la region de busqueda (radio de busqueda). El algoritmo toma cada pixel de la imagen, expresado en un espacio de color LUV, RGB o HSI, deberian hacerlo generico para que el algoritmo realice la segmentación, independientemente del tipo de formato de color utilizado.\n",
    "\n",
    "El algoritmo consiste en los siguientes pasos:\n",
    "1. para cada pixel, determinar un entorno de radio r, radio de búsqueda.\n",
    "2. Calcular el centro de masa de los puntos dentro del radio. \n",
    "3. Encontrar los elementos en un radio r alrededor del centro de masa calculado en el paso anterior.\n",
    "4. Repetir el paso 3 hasta convergencia.\n",
    "5. repetir desde el paso 2 para cada uno de los puntos que representa la imagen.\n",
    "6. Identificar cuantos modos hay en la imagen. Los modos son los puntos a los que convergen los pixeles de la imagen.\n",
    "7. Todos los pixeles que convergen a un modo se agrupan en un mismo conjunto. Cada uno de estos segnmentos es una region conexa de pixeles en la imagen.\n",
    "\n",
    "## Algoritmo basado en grafos.\n",
    "\n",
    "Este algoritmo se basa en el clustering espectral. Junto a este proyecto pueden encontrar un paper qu eexplica en que consiste este método. En si el proceso a realizar es el siguiente:\n",
    "\n",
    "1. Construir el grafo de la imagen.\n",
    "2. Encontrar el La matrix Laplaciana del grafo.\n",
    "3. Realizar una descomposicion en valores singulares de la imagen, buscando el eigenvector asociado al segundo eigenvalor más pequeño de la imagen.\n",
    "4. Graficar este eigenvector organizando los valores de menor a mayor (deben hacer tracking de los indices al organizar este vector)\n",
    "5. Los elementos (posiciones del eigenvector) que tienen un valor similar, corresponden a elementos conexos en la imagen.\n",
    "6. Determine umbrales para segmentar la imagen en regiones conexas.\n",
    "\n",
    "\n",
    "Para la entrega del proyecto deben proporcionar lo siguiente:\n",
    "\n",
    "1. Implementación de los algoritmos.\n",
    "2. Prueba de los algoritmos utilizando diferentes imagenes y representaciones en espacio de color.\n",
    "3. Gráficas de los clusters encontrados (modos y sus regiones), asi como de los eigenvectores.\n",
    "4. Discusion de la implementación.\n",
    "5. Discusion de los resultados obtenidos, ventajas y desventajas de cada método.\n",
    "6. Posibles mejoras.\n",
    "\n",
    "Para la implementación con grafos tengan en cuenta que se debe realizar la descomposicion en valores singulares de una matrix tamaño $N\\times N$, donde $N$ res el número de pixeles en la imagen. Como esto es computacionalmente muy costoso, hay dos opciones. La primera es usar imagenes pequeñas, pero estas imagenes serían tal vez demasiado pequeñas (tamaños inferiores a $100\\times 100$). Otra opción es hacer que cada nodo no sea un pixel, sino un superpixel, de esta forma se puede reducir bastante la complejidad del algoritmo.\n",
    "\n",
    "El proyecto lo deben entregar el **Lunes 9 de Mayo a las 11:59 p.m**. Se pueden hacer en grupos de dos personas y admito un grupo de tres personas. Mucha suerte!!"
   ]
  },
  {
   "cell_type": "code",
   "execution_count": null,
   "metadata": {},
   "outputs": [],
   "source": []
  }
 ],
 "metadata": {
  "kernelspec": {
   "display_name": "Python 3",
   "language": "python",
   "name": "python3"
  },
  "language_info": {
   "codemirror_mode": {
    "name": "ipython",
    "version": 3
   },
   "file_extension": ".py",
   "mimetype": "text/x-python",
   "name": "python",
   "nbconvert_exporter": "python",
   "pygments_lexer": "ipython3",
   "version": "3.7.4"
  }
 },
 "nbformat": 4,
 "nbformat_minor": 2
}
