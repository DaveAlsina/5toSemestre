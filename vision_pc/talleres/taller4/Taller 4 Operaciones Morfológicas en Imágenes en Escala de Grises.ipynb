{
 "cells": [
  {
   "cell_type": "markdown",
   "metadata": {},
   "source": [
    "# Taller 4: Operaciones morfologicas en imagenes en tonos de grises\n",
    "\n",
    "Para este taller vamos a realizar operaciones morfológicas en imagenes que no son binarias, sino que se encuentran en escala de grises. Para el taller deben realizar lo siguiente:\n",
    "\n",
    "1. Implementen la erosión y la dilatación para aplicar en imagenes en escala de grises.\n",
    "2. Prueben el algoritnmo en una imagen en escala de grises de su elección. ¿Qué pueden concluir?\n",
    "3. Implemente un algoritmo de top-hat o bottom-hat transformation, para corregir diferencias de iluminación del fondo. Prueben el algoritmo en diferentes imagenes que tengan problemas de luminosidad. ¿Qué pueden concluir?, ¿El algortimo es igual de efectivo para todas las imagenes? ¿Pueden automatizarlo para que de forma automatica encuentre las diferentcias de iluminación en el fondo?\n",
    "4. Desarrollen un algoritmo para evaluar texturas por medio de granulometria. Una vez implementado descarguen una imagen que tenga diferentes texturas, una fina (muchos cambios del fondo) y una mas gruesa (cambios mas lentos en los valores de intensidad). Prueben este algortimo con una imagen adecuada para realizar la segmentación ¿Que concluyen sobre el funcionamiento del algoritmo?\n",
    "5. Si desean desarrollar un algoritmo para detectar muchas mas texturas diferentes usando granulometria, ¿como creen qu epodria ser ese algoritmo?\n",
    "6. Apliquen estos algortimos sobre una imagen a color - se aplica de forma independiente sobre cada capa, y al final se unen los resultados ya sea por superposicion de capas par ala erosion, dilatacion, correccion de iluminación, o por union de las regiones identificadas para la segmentación-. ¿Cómo son estos resultados comparados con los obtenidos en imagenes en escala de grises?\n",
    "\n",
    "Para este proyecto se pueden hacer en grupos de hasta 3 personas y deben entregarlo el **Viernes 25 de Marzo a las 11:59 p.m.**\n"
   ]
  },
  {
   "cell_type": "code",
   "execution_count": null,
   "metadata": {},
   "outputs": [],
   "source": []
  }
 ],
 "metadata": {
  "kernelspec": {
   "display_name": "Python 3",
   "language": "python",
   "name": "python3"
  },
  "language_info": {
   "codemirror_mode": {
    "name": "ipython",
    "version": 3
   },
   "file_extension": ".py",
   "mimetype": "text/x-python",
   "name": "python",
   "nbconvert_exporter": "python",
   "pygments_lexer": "ipython3",
   "version": "3.7.4"
  }
 },
 "nbformat": 4,
 "nbformat_minor": 2
}
